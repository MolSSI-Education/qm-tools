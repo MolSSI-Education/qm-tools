{
 "cells": [
  {
   "cell_type": "code",
   "execution_count": 1,
   "metadata": {},
   "outputs": [],
   "source": [
    "# import the python modules that we will use\n",
    "import psi4\n",
    "%matplotlib inline\n",
    "import matplotlib.pyplot as plt"
   ]
  },
  {
   "cell_type": "markdown",
   "metadata": {},
   "source": [
    "## Setting up the molecule and getting the initial energy\n",
    "\n",
    "The first code block will set up our molecule as an object in Psi4 using the function `psi4.geometry`. You will need to add in the final coordinates of your molecule from the nitrobenzene optimization from the last exercises. As before, we can use Psi4 to calculate different attributes of the molecule using the basis set that we specify. In this case we will use the Hartree-Fock method (SCF) and the cc-pVDZ basis set to calculate the energy of the molecule and store it in a value E for printing in the notebook when the calculation is complete. It is useful to check to make sure that this energy is the same as the one from the final geometry in the optimization - just to make sure that the geometry that you have put in is OK.\n",
    "\n",
    "We can also print the positions of all the atoms at any time using `molecule.print_out_in_angstrom()` and all of the interatomic distances using `molecule.print_distances()`. We will print these to a file called 'geometry_initial' just as an example (we don't really need this information right now)."
   ]
  },
  {
   "cell_type": "code",
   "execution_count": 2,
   "metadata": {},
   "outputs": [
    {
     "name": "stdout",
     "output_type": "stream",
     "text": [
      "The energy is:  -434.21119653835046\n"
     ]
    }
   ],
   "source": [
    "# set the amount of memory that you will need\n",
    "psi4.set_memory('2 GB')\n",
    "\n",
    "# set several threads to run to get the results a bit faster\n",
    "psi4.set_num_threads(2)\n",
    "\n",
    "# set the molecule name for your files and plots\n",
    "molecule_name = \"nitrobenzenepes\"\n",
    "\n",
    "# enter the starting coordinates of the atoms in your molecule\n",
    "# note that the \"0 1\" is the charge and multiplicity of the molecule\n",
    "molecule = psi4.geometry(\"\"\"\n",
    "symmetry c1\n",
    "0 1\n",
    "         C           -0.095064772343     0.146295623041     0.059537205186\n",
    "         C            1.283018363291     0.142649668478     0.196784140588\n",
    "         C            1.990331050963    -0.960422939516    -0.254006621934\n",
    "         C            1.318416263743    -2.031528686933    -0.828747057589\n",
    "         C           -0.064188925162    -2.007366882283    -0.956737400211\n",
    "         C           -0.784558755686    -0.910752841459    -0.510319723340\n",
    "         N           -0.848855091435     1.308105436534     0.533445635977\n",
    "         O           -0.233820735922     2.201021978360     1.018562061794\n",
    "         O           -2.029554627386     1.286506572614     0.404620639986\n",
    "         H            1.779858487179     0.986578029758     0.646345969034\n",
    "         H            3.066459468369    -0.982350238052    -0.155873129710\n",
    "         H            1.875676025875    -2.889960105077    -1.178879784359\n",
    "         H           -0.584173157007    -2.842448011438    -1.404447615844\n",
    "         H           -1.857675444135    -0.866918749314    -0.597782154057\n",
    "\"\"\")\n",
    "\n",
    "# calculate the initial energy of the molecule using the Hartree-Fock method and the cc-pVDZ basis set to a file\n",
    "psi4.set_output_file(molecule_name + '_energy_initial_v2.dat', False)\n",
    "E = psi4.energy('scf/cc-pVDZ')\n",
    "\n",
    "# print atomic coordinates and interatomic distances to a file\n",
    "psi4.set_output_file(molecule_name + '_geometry_initial_v2.dat', False)\n",
    "molecule.print_out_in_angstrom()\n",
    "molecule.print_distances()\n",
    "\n",
    "#print the energy out to the notebook\n",
    "print('The energy is: ', E)"
   ]
  },
  {
   "cell_type": "markdown",
   "metadata": {},
   "source": [
    "## Determine the dihedral to be rotated \n",
    "\n",
    "You can use the same dihedrals as in the first approach.  Enter in the dihedrals as strings. Note that we are not going to give a list `phi` this time since we will use the range capability in a for loop."
   ]
  },
  {
   "cell_type": "code",
   "execution_count": 3,
   "metadata": {},
   "outputs": [],
   "source": [
    "# set the dihedral to be rotated around\n",
    "dihedral1 = \"2 1 7 8 \"\n",
    "dihedral2 = \"6 1 7 9 \""
   ]
  },
  {
   "cell_type": "markdown",
   "metadata": {},
   "source": [
    "## Approach 2: Calculating the PES by function call\n",
    "\n",
    "In this second approach, we will run each of the optimizations as a function and get the energy back into a variable.  Then we will plot the energies as in the first approach for each of the dihedral angles involved. \n",
    "\n",
    "This next step is to use values returned by Psi4 functions to build get the energies. Also, we will use a for loop using a range - you get to figure out how to set up this range yourself!\n",
    "\n",
    "The calculations will take a bit of time to do the optimization, so be patient!  To help speed up the process, we are going to again switch the basis set to the 3-21G basis (a smaller basis than the cc-pVDZ one we have used up to this point).  You will know all of the computations are complete when you see \"All optimizations complete!\"."
   ]
  },
  {
   "cell_type": "code",
   "execution_count": 4,
   "metadata": {},
   "outputs": [
    {
     "name": "stdout",
     "output_type": "stream",
     "text": [
      "\n",
      "The value of the frozen_dihedrals is:  0\n",
      "Optimizer: Optimization complete!\n",
      "\n",
      "The value of the frozen_dihedrals is:  10\n",
      "Optimizer: Optimization complete!\n",
      "\n",
      "The value of the frozen_dihedrals is:  20\n",
      "Optimizer: Optimization complete!\n",
      "\n",
      "The value of the frozen_dihedrals is:  30\n",
      "Optimizer: Optimization complete!\n",
      "\n",
      "The value of the frozen_dihedrals is:  40\n",
      "Optimizer: Optimization complete!\n",
      "\n",
      "The value of the frozen_dihedrals is:  50\n",
      "Optimizer: Optimization complete!\n",
      "\n",
      "The value of the frozen_dihedrals is:  60\n",
      "Optimizer: Optimization complete!\n",
      "\n",
      "The value of the frozen_dihedrals is:  70\n",
      "Optimizer: Optimization complete!\n",
      "\n",
      "The value of the frozen_dihedrals is:  80\n",
      "Optimizer: Optimization complete!\n",
      "\n",
      "The value of the frozen_dihedrals is:  90\n",
      "Optimizer: Optimization complete!\n",
      "\n",
      "The value of the frozen_dihedrals is:  100\n",
      "Optimizer: Optimization complete!\n",
      "\n",
      "The value of the frozen_dihedrals is:  110\n",
      "Optimizer: Optimization complete!\n",
      "\n",
      "The value of the frozen_dihedrals is:  120\n",
      "Optimizer: Optimization complete!\n",
      "\n",
      "The value of the frozen_dihedrals is:  130\n",
      "Optimizer: Optimization complete!\n",
      "\n",
      "The value of the frozen_dihedrals is:  140\n",
      "Optimizer: Optimization complete!\n",
      "\n",
      "The value of the frozen_dihedrals is:  150\n",
      "Optimizer: Optimization complete!\n",
      "\n",
      "The value of the frozen_dihedrals is:  160\n",
      "Optimizer: Optimization complete!\n",
      "\n",
      "The value of the frozen_dihedrals is:  170\n",
      "Optimizer: Optimization complete!\n",
      "\n",
      "The value of the frozen_dihedrals is:  180\n",
      "Optimizer: Optimization complete!\n",
      "All optimizations complete!\n"
     ]
    }
   ],
   "source": [
    "psi4.set_output_file(molecule_name + '_torsionscan_v2.dat', False)\n",
    "\n",
    "# create empty lists to store phi and energy values\n",
    "phi = []\n",
    "energy_values = []\n",
    "\n",
    "# loop over all of the dihedral values\n",
    "for P in range(0, 181, 10):\n",
    "    # you could also loop over an array created using np.linspace() or similar; don't forget to import NumPy!\n",
    "    #set up a string needed by Psi4 to freeze the dihedral\n",
    "    frozen_dihedral1 = dihedral1 + \" \" + str(P) \n",
    "    frozen_dihedral2 = dihedral2 + \" \" + str(P)\n",
    "    print('\\nThe value of the frozen_dihedrals is: ', P)\n",
    "    frozen_dihedral_total = frozen_dihedral1 + \" \" + frozen_dihedral2\n",
    "    psi4.set_module_options('optking', {'fixed_dihedral': frozen_dihedral_total})  #set the fixed dihedral\n",
    "    psi4.set_module_options('optking', {'g_convergence': 'gau_loose'})\n",
    "    E = psi4.optimize('scf/3-21G', molecule=molecule)\n",
    "    phi.append(P)\n",
    "    energy_values.append(E)\n",
    "\n",
    "print('All optimizations complete!')"
   ]
  },
  {
   "cell_type": "markdown",
   "metadata": {},
   "source": [
    "### Plotting how energy changes during the potential energy scan\n",
    "\n",
    "Since we have all of the necessary information, we plot how the energy changes at each value of phi. What trend do you expect to see? Why?"
   ]
  },
  {
   "cell_type": "code",
   "execution_count": 8,
   "metadata": {
    "scrolled": false
   },
   "outputs": [
    {
     "data": {
      "image/png": "[encoded data removed]",
      "text/plain": [
       "<Figure size 432x288 with 1 Axes>"
      ]
     },
     "metadata": {
      "needs_background": "light"
     },
     "output_type": "display_data"
    }
   ],
   "source": [
    "# determine an appropriate range for plotting\n",
    "energy_range = max(energy_values) - min(energy_values)\n",
    "\n",
    "# plot the energies at each iteration\n",
    "plt.scatter(phi, energy_values, color='MediumVioletRed')\n",
    "plt.xlim(min(phi)-3, max(phi)+3)\n",
    "plt.xticks(range(0, 181, 30))\n",
    "plt.ylim(top = max(energy_values) + energy_range*0.15, \n",
    "         bottom = min(energy_values) - energy_range*0.15)\n",
    "plt.xlabel(\"dihedral angle in degrees\")\n",
    "plt.ylabel(\"energy (Hartrees)\")\n",
    "plt.title(\"Nitrobenzene C-N torsion energy\")\n",
    "plt.show()"
   ]
  },
  {
   "cell_type": "code",
   "execution_count": null,
   "metadata": {},
   "outputs": [],
   "source": []
  }
 ],
 "metadata": {
  "kernelspec": {
   "display_name": "Python 3",
   "language": "python",
   "name": "python3"
  },
  "language_info": {
   "codemirror_mode": {
    "name": "ipython",
    "version": 3
   },
   "file_extension": ".py",
   "mimetype": "text/x-python",
   "name": "python",
   "nbconvert_exporter": "python",
   "pygments_lexer": "ipython3",
   "version": "3.6.8"
  }
 },
 "nbformat": 4,
 "nbformat_minor": 2
}
