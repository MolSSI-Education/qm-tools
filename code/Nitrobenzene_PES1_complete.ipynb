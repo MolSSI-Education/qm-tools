{
 "cells": [
  {
   "cell_type": "code",
   "execution_count": 1,
   "metadata": {},
   "outputs": [],
   "source": [
    "# import the python modules that we will use\n",
    "import psi4\n",
    "%matplotlib inline\n",
    "import matplotlib.pyplot as plt"
   ]
  },
  {
   "cell_type": "markdown",
   "metadata": {},
   "source": [
    "## Setting up the molecule and getting the initial energy\n",
    "\n",
    "The first code block will set up our molecule as an object in Psi4 using the function `psi4.geometry`. You will need to add in the final coordinates of your molecule from the nitrobenzene optimization from the last exercises. As before, we can use Psi4 to calculate different attributes of the molecule using the basis set that we specify. In this case we will use the Hartree-Fock method (SCF) and the cc-pVDZ basis set to calculate the energy of the molecule and store it in a value E for printing in the notebook when the calculation is complete. It is useful to check to make sure that this energy is the same as the one from the final geometry in the optimization - just to make sure that the geometry that you have put in is OK.\n",
    "\n",
    "We can also print the positions of all the atoms at any time using `molecule.print_out_in_angstrom()` and all of the interatomic distances using `molecule.print_distances()`. We will print these to a file called 'geometry_initial' just as an example (we don't really need this information right now)."
   ]
  },
  {
   "cell_type": "code",
   "execution_count": 2,
   "metadata": {},
   "outputs": [
    {
     "name": "stdout",
     "output_type": "stream",
     "text": [
      "The energy is:  -434.21119653495975\n"
     ]
    }
   ],
   "source": [
    "# set the amount of memory that you will need\n",
    "psi4.set_memory('2 GB')\n",
    "\n",
    "# set several threads to run to get the results a bit faster\n",
    "psi4.set_num_threads(2)\n",
    "\n",
    "# set the molecule name for your files and plots\n",
    "molecule_name = \"nitrobenzenepes\"\n",
    "\n",
    "# enter the starting coordinates of the atoms in your molecule\n",
    "# note that the \"0 1\" is the charge and multiplicity of the molecule;\n",
    "# the \"symmetry c1\" term forces Psi4 to not use molecular symmetry\n",
    "molecule = psi4.geometry(\"\"\"\n",
    "symmetry c1\n",
    "0 1\n",
    "         C           -0.095064772343     0.146295623041     0.059537205186\n",
    "         C            1.283018363291     0.142649668478     0.196784140588\n",
    "         C            1.990331050963    -0.960422939516    -0.254006621934\n",
    "         C            1.318416263743    -2.031528686933    -0.828747057589\n",
    "         C           -0.064188925162    -2.007366882283    -0.956737400211\n",
    "         C           -0.784558755686    -0.910752841459    -0.510319723340\n",
    "         N           -0.848855091435     1.308105436534     0.533445635977\n",
    "         O           -0.233820735922     2.201021978360     1.018562061794\n",
    "         O           -2.029554627386     1.286506572614     0.404620639986\n",
    "         H            1.779858487179     0.986578029758     0.646345969034\n",
    "         H            3.066459468369    -0.982350238052    -0.155873129710\n",
    "         H            1.875676025875    -2.889960105077    -1.178879784359\n",
    "         H           -0.584173157007    -2.842448011438    -1.404447615844\n",
    "         H           -1.857675444135    -0.866918749314    -0.597782154057\n",
    "\"\"\")\n",
    "\n",
    "# calculate the initial energy of the molecule using the Hartree-Fock method and the cc-pVDZ basis set to a file\n",
    "psi4.set_output_file(molecule_name + '_energy_initial.dat', False)\n",
    "E = psi4.energy('scf/cc-pVDZ')\n",
    "\n",
    "# print atomic coordinates and interatomic distances to a file\n",
    "psi4.set_output_file(molecule_name + '_geometry_initial.dat', False)\n",
    "molecule.print_out_in_angstrom()\n",
    "molecule.print_distances()\n",
    "\n",
    "#print the energy out to the notebook\n",
    "print('The energy is: ', E)"
   ]
  },
  {
   "cell_type": "markdown",
   "metadata": {},
   "source": [
    "## Determine the dihedral to be rotated and set up the angles to do the calculation\n",
    "\n",
    "Now that we have the molecule setup, we need to decide which dihedrals needs to be rotated and then set up an array with the angles that we want to do the calculations.  The instructions for this exercise tell you how to determine the atom numbers of the atoms in the dihedral angles we want to rotate using Avogadro.  You need to enter these values as a string of numbers in the `dihedral1` and `dihedral2` variables.  If you are still stuck, please ask one of the instructors to help you!\n",
    "\n",
    "One of the challenges of computations like this is to make sure that the number of calculations is reasonable to give a smooth potential energy plot.  So, you may have to play with this a bit and run the notebook several times with different numbers of caculations to get a smooth plot. Also, if you take too big of a step, the optimization may fail.  If you take too small of a step, then it will take a long time to generate the calculations. Enter your values into the array `phi`."
   ]
  },
  {
   "cell_type": "code",
   "execution_count": 3,
   "metadata": {},
   "outputs": [
    {
     "name": "stdout",
     "output_type": "stream",
     "text": [
      "[  0.  10.  20.  30.  40.  50.  60.  70.  80.  90. 100. 110. 120. 130.\n",
      " 140. 150. 160. 170. 180.]\n"
     ]
    }
   ],
   "source": [
    "# set the dihedrals to be rotated around\n",
    "dihedral1 = \"2 1 7 8 \"\n",
    "dihedral2 = \"6 1 7 9 \"\n",
    "\n",
    "# set the values of the dihedral for the calculations\n",
    "# note that each value will correspond to a geometry optimization for each of the frozen dihedral values\n",
    "import numpy as np\n",
    "phi = np.linspace(start=0, stop=180, num=19)\n",
    "### alternative: phi = [0, 10, 20, 30, 40, 50, 60, 70, 80, 90, 100, 110, 120, 130, 140, 150, 160, 170, 180]\n",
    "print(phi)"
   ]
  },
  {
   "cell_type": "markdown",
   "metadata": {},
   "source": [
    "## Approach 1: Calculating the PES using files\n",
    "\n",
    "Now that we have the basics set up, we need to actually run the constrained optimizations for each of the dihedral values.  In this first approach, we will run each of the optimizations to a separate file and then do a search in each file (like in the first exercise) to get the energy.  Then we will plot the energies for each of the dihedral angles involved. One advantage to having the separate files is that you can more easily figure out what is going wrong if you get an error.\n",
    "\n",
    "This next step is to do the constrained optimizations with different file names for each dihedral value. This will take a bit of time to do the optimization, so be patient!  To help speed up the process, we are going to switch the basis set to the 3-21G basis (a smaller basis than the cc-pVDZ one we have used up to this point).  You will know all of the computations are complete when you see \"All optimizations complete!\"."
   ]
  },
  {
   "cell_type": "code",
   "execution_count": 4,
   "metadata": {},
   "outputs": [
    {
     "name": "stdout",
     "output_type": "stream",
     "text": [
      "\n",
      "The value of the frozen_dihedrals is:  0.0\n",
      "Optimizer: Optimization complete!\n",
      "\n",
      "The value of the frozen_dihedrals is:  10.0\n",
      "Optimizer: Optimization complete!\n",
      "\n",
      "The value of the frozen_dihedrals is:  20.0\n",
      "Optimizer: Optimization complete!\n",
      "\n",
      "The value of the frozen_dihedrals is:  30.0\n",
      "Optimizer: Optimization complete!\n",
      "\n",
      "The value of the frozen_dihedrals is:  40.0\n",
      "Optimizer: Optimization complete!\n",
      "\n",
      "The value of the frozen_dihedrals is:  50.0\n",
      "Optimizer: Optimization complete!\n",
      "\n",
      "The value of the frozen_dihedrals is:  60.0\n",
      "Optimizer: Optimization complete!\n",
      "\n",
      "The value of the frozen_dihedrals is:  70.0\n",
      "Optimizer: Optimization complete!\n",
      "\n",
      "The value of the frozen_dihedrals is:  80.0\n",
      "Optimizer: Optimization complete!\n",
      "\n",
      "The value of the frozen_dihedrals is:  90.0\n",
      "Optimizer: Optimization complete!\n",
      "\n",
      "The value of the frozen_dihedrals is:  100.0\n",
      "Optimizer: Optimization complete!\n",
      "\n",
      "The value of the frozen_dihedrals is:  110.0\n",
      "Optimizer: Optimization complete!\n",
      "\n",
      "The value of the frozen_dihedrals is:  120.0\n",
      "Optimizer: Optimization complete!\n",
      "\n",
      "The value of the frozen_dihedrals is:  130.0\n",
      "Optimizer: Optimization complete!\n",
      "\n",
      "The value of the frozen_dihedrals is:  140.0\n",
      "Optimizer: Optimization complete!\n",
      "\n",
      "The value of the frozen_dihedrals is:  150.0\n",
      "Optimizer: Optimization complete!\n",
      "\n",
      "The value of the frozen_dihedrals is:  160.0\n",
      "Optimizer: Optimization complete!\n",
      "\n",
      "The value of the frozen_dihedrals is:  170.0\n",
      "Optimizer: Optimization complete!\n",
      "\n",
      "The value of the frozen_dihedrals is:  180.0\n",
      "Optimizer: Optimization complete!\n",
      "All optimizations complete!\n"
     ]
    }
   ],
   "source": [
    "# loop over all of the dihedral values\n",
    "for P in phi:\n",
    "    #set up a string needed by Psi4 to freeze the dihedral\n",
    "    frozen_dihedral1 = dihedral1 + \" \" + str(P) \n",
    "    frozen_dihedral2 = dihedral2 + \" \" + str(P)\n",
    "    print('\\nThe value of the frozen_dihedrals is: ', P)\n",
    "    frozen_dihedral_total = frozen_dihedral1 + \" \" + frozen_dihedral2\n",
    "    psi4.set_module_options('optking', {'fixed_dihedral': frozen_dihedral_total})  #set the fixed dihedral\n",
    "    # we're going to loosen up the convergence criteria to speed this process up\n",
    "    # and also be more robust to various optking errors\n",
    "    psi4.set_module_options('optking', {'g_convergence': 'gau_loose'})\n",
    "    ### psi4.set_module_options('optking', {'intrafrag_step_limit': 0.2})  # set the step size limit\n",
    "    ### psi4.set_options({'geom_maxiter': 100}) # increase the number of geometry iterations allowed\n",
    "    ### psi4.set_module_options('optking', {'fixed_coord_force_constant': 160.0}) # restraint strength for fixed coords\n",
    "    psi4.set_output_file(molecule_name + '_' + str(P) + '_geometry_optimization.dat', False)\n",
    "    psi4.optimize('scf/3-21G', molecule=molecule)\n",
    "\n",
    "print('All optimizations complete!')"
   ]
  },
  {
   "cell_type": "markdown",
   "metadata": {},
   "source": [
    "### Reading energies from the geometry optimization files\n",
    "\n",
    "Below is a function that will pull out the molecular energies from the geometry optimization output files. This way you can look at how the energy changes as the angle is rotated. In the 'geometry_optimization' file you can find this information where it says 'Final energy : '."
   ]
  },
  {
   "cell_type": "code",
   "execution_count": 5,
   "metadata": {},
   "outputs": [],
   "source": [
    "# function to find the energy in the optimization files\n",
    "def plot_pes_energy():\n",
    "    energy_values = []\n",
    "    for P in phi:\n",
    "        with open(molecule_name + '_' + str(P) + '_geometry_optimization.dat') as f:\n",
    "            final_energy = [ float(line.split()[3]) for line in f if line.strip().startswith('Final energy') ]\n",
    "            energy_values.append(final_energy[0])\n",
    "    return energy_values"
   ]
  },
  {
   "cell_type": "markdown",
   "metadata": {},
   "source": [
    "### Plotting how energy changes during the potential energy scan\n",
    "\n",
    "Using the function above, we will find the molecule's energy at each step of the potential energy surface and store them into the `energy_values` variable. We also need to find what the highest and lowest values of the energy are during optimization so that we know what range to use for plotting on the y-axis.\n",
    "\n",
    "Then, we will plot how the energy changes at each value of phi. What trend do you expect to see? Why?"
   ]
  },
  {
   "cell_type": "code",
   "execution_count": 6,
   "metadata": {
    "scrolled": false
   },
   "outputs": [
    {
     "data": {
      "image/png": "[encoded data removed]",
      "text/plain": [
       "<Figure size 432x288 with 1 Axes>"
      ]
     },
     "metadata": {},
     "output_type": "display_data"
    }
   ],
   "source": [
    "# find the energies from this optimization file\n",
    "energy_values = plot_pes_energy()\n",
    "\n",
    "# determine an appropriate range for plotting\n",
    "energy_range = max(energy_values) - min(energy_values)\n",
    "\n",
    "# plot the energies at each iteration\n",
    "#plt.figure()\n",
    "plt.scatter(phi, energy_values, color='MediumVioletRed')\n",
    "plt.xlim(min(phi)-3, max(phi)+3)\n",
    "plt.xticks(np.linspace(start=0, stop=180, num=7))\n",
    "plt.ylim(top = max(energy_values) + energy_range*0.15, \n",
    "         bottom = min(energy_values) - energy_range*0.15)\n",
    "plt.yticks(np.linspace(start=min(energy_values), stop=max(energy_values), num=5))\n",
    "plt.xlabel(\"dihedral angle in degrees\")\n",
    "plt.ylabel(\"energy (Hartrees)\")\n",
    "plt.title(\"Nitrobenzene C-N torsion energy\")\n",
    "plt.show()\n",
    "#plt.savefig(F'CN-torsion-hartrees.png')"
   ]
  },
  {
   "cell_type": "markdown",
   "metadata": {},
   "source": [
    "**Bonus:** What if we'd like to get this PES in units of kJ/mol (and have the minimum be at zero)?"
   ]
  },
  {
   "cell_type": "code",
   "execution_count": 8,
   "metadata": {},
   "outputs": [
    {
     "data": {
      "image/png": "[encoded data removed]",
      "text/plain": [
       "<Figure size 432x288 with 1 Axes>"
      ]
     },
     "metadata": {},
     "output_type": "display_data"
    }
   ],
   "source": [
    "# do the unit conversion\n",
    "energy_values_kJ = np.array(energy_values)*(1/3.8088e-4)\n",
    "# and let's define the lowest energy to be zero\n",
    "energy_values_kJ = energy_values_kJ - min(energy_values_kJ)\n",
    "\n",
    "# determine the maximum energy (for setting y axes limits)\n",
    "Emax = max(energy_values_kJ)\n",
    "\n",
    "# plot the energies at each iteration\n",
    "### note that plt.xticks() and plt.yticks()\n",
    "### utilize np.linspace() in this solution\n",
    "plt.scatter(phi, energy_values_kJ, color='MediumVioletRed')\n",
    "plt.xlim(min(phi)-3, max(phi)+3)\n",
    "plt.xticks(np.linspace(start=0, stop=180, num=7))\n",
    "plt.ylim(-Emax*0.15, Emax*1.15)\n",
    "plt.yticks(np.linspace(start=0, stop=Emax, num=5))\n",
    "plt.xlabel(\"dihedral angle in degrees\")\n",
    "plt.ylabel(\"energy (kJ/mol)\")\n",
    "plt.title(\"Nitrobenzene C-N torsion energy\")\n",
    "plt.show()"
   ]
  },
  {
   "cell_type": "code",
   "execution_count": null,
   "metadata": {},
   "outputs": [],
   "source": []
  }
 ],
 "metadata": {
  "kernelspec": {
   "display_name": "Python 3",
   "language": "python",
   "name": "python3"
  },
  "language_info": {
   "codemirror_mode": {
    "name": "ipython",
    "version": 3
   },
   "file_extension": ".py",
   "mimetype": "text/x-python",
   "name": "python",
   "nbconvert_exporter": "python",
   "pygments_lexer": "ipython3",
   "version": "3.6.8"
  }
 },
 "nbformat": 4,
 "nbformat_minor": 2
}
